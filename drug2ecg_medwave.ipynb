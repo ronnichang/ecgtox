{
 "cells": [
  {
   "cell_type": "code",
   "execution_count": 35,
   "id": "4c203a00-a280-450c-a8fd-2267a217c13b",
   "metadata": {
    "execution": {
     "iopub.execute_input": "2025-08-17T12:18:24.711335Z",
     "iopub.status.busy": "2025-08-17T12:18:24.711114Z",
     "iopub.status.idle": "2025-08-17T12:18:24.738288Z",
     "shell.execute_reply": "2025-08-17T12:18:24.737755Z",
     "shell.execute_reply.started": "2025-08-17T12:18:24.711318Z"
    }
   },
   "outputs": [
    {
     "name": "stdout",
     "output_type": "stream",
     "text": [
      "The autoreload extension is already loaded. To reload it, use:\n",
      "  %reload_ext autoreload\n"
     ]
    }
   ],
   "source": [
    "%load_ext autoreload\n",
    "%autoreload 2\n",
    "%matplotlib inline"
   ]
  },
  {
   "cell_type": "code",
   "execution_count": null,
   "id": "f31d64db-06a3-4443-a4a0-d3958b178721",
   "metadata": {},
   "outputs": [],
   "source": [
    "!pwd"
   ]
  },
  {
   "cell_type": "code",
   "execution_count": null,
   "id": "d850addc-6a51-4b32-8403-d39076e29f08",
   "metadata": {},
   "outputs": [],
   "source": [
    "!nvidia-smi"
   ]
  },
  {
   "cell_type": "markdown",
   "id": "0bbd79d1-39c8-4f4e-ab99-da2be31d2bc6",
   "metadata": {},
   "source": [
    "# Imports"
   ]
  },
  {
   "cell_type": "code",
   "execution_count": 38,
   "id": "a4cc1d8c-7a9b-446c-8de3-bb74c1a8b4f7",
   "metadata": {
    "execution": {
     "iopub.execute_input": "2025-08-17T12:18:25.874524Z",
     "iopub.status.busy": "2025-08-17T12:18:25.874349Z",
     "iopub.status.idle": "2025-08-17T12:18:25.901081Z",
     "shell.execute_reply": "2025-08-17T12:18:25.900542Z",
     "shell.execute_reply.started": "2025-08-17T12:18:25.874503Z"
    }
   },
   "outputs": [],
   "source": [
    "import os\n",
    "import re\n",
    "from glob import glob\n",
    "import numpy as np\n",
    "import random\n",
    "import csv\n",
    "import pandas as pd\n",
    "import matplotlib.pyplot as plt\n",
    "from collections import defaultdict\n",
    "from datetime import datetime\n",
    "\n",
    "import torch\n",
    "import torch.nn as nn\n",
    "import torch.nn.functional as F\n",
    "from torch.utils.data import Dataset, DataLoader\n",
    "\n",
    "os.environ[\"TOKENIZERS_PARALLELISM\"] = \"false\"  # silence fork warning & disable tokenizer threadpool\n",
    "from transformers import AutoTokenizer, AutoModel"
   ]
  },
  {
   "cell_type": "markdown",
   "id": "a4f0e8b3-2aa3-4aa0-a739-ff8635b7efb6",
   "metadata": {},
   "source": [
    "# 1. Config"
   ]
  },
  {
   "cell_type": "code",
   "execution_count": 39,
   "id": "191ca774-7b68-4026-9c26-33db948a3c32",
   "metadata": {
    "execution": {
     "iopub.execute_input": "2025-08-17T12:18:25.901784Z",
     "iopub.status.busy": "2025-08-17T12:18:25.901637Z",
     "iopub.status.idle": "2025-08-17T12:18:25.925001Z",
     "shell.execute_reply": "2025-08-17T12:18:25.923841Z",
     "shell.execute_reply.started": "2025-08-17T12:18:25.901769Z"
    }
   },
   "outputs": [],
   "source": [
    "# ==== DATA PATHS ====\n",
    "ECGRDVQ_ANNOTATION = 'data/ECGRDVQ/SCR-002.Clinical.Data.csv'\n",
    "RAW_ROOT            = 'data/ECGRDVQ/raw'\n",
    "MEDIAN_ROOT_FULL    = 'data/ECGRDVQ_medians_exclude_1/method_A_full'     # one median per replicate\n",
    "MEDIAN_ROOT_SUBSET  = 'data/ECGRDVQ_medians_exclude_1/method_B_subset'   # augmented medians per replicate\n",
    "\n",
    "# ==== SAMPLE SELECTION ====\n",
    "PLACEBO_TPT = 3.0\n",
    "\n",
    "# ==== MEDIAN WAVEFORM SETTINGS ====\n",
    "MEDIAN_BEAT_LEN       = 512         # samples for each beat median (model I/O length)\n"
   ]
  },
  {
   "cell_type": "code",
   "execution_count": 40,
   "id": "f31380fc-89e2-4b30-b1bb-31c668512082",
   "metadata": {
    "execution": {
     "iopub.execute_input": "2025-08-17T12:18:25.925578Z",
     "iopub.status.busy": "2025-08-17T12:18:25.925435Z",
     "iopub.status.idle": "2025-08-17T12:18:25.951010Z",
     "shell.execute_reply": "2025-08-17T12:18:25.950520Z",
     "shell.execute_reply.started": "2025-08-17T12:18:25.925564Z"
    }
   },
   "outputs": [],
   "source": [
    "# ==== Data Source for Model Training ====\n",
    "USE_MEDIAN_SOURCE = 'B'  # 'A' for method_A_full, 'B' for method_B_subset\n",
    "if USE_MEDIAN_SOURCE == 'A':\n",
    "    MEDIAN_ROOT = MEDIAN_ROOT_FULL\n",
    "elif USE_MEDIAN_SOURCE == 'B':\n",
    "    MEDIAN_ROOT = MEDIAN_ROOT_SUBSET\n",
    "else:\n",
    "    ValueError(f\"Config value error: USE_MEDIAN_SOURCE = {USE_MEDIAN_SOURCE} is invalid\")\n",
    "\n",
    "MANIFEST_PATH = os.path.join(MEDIAN_ROOT, 'manifest.csv')\n",
    "assert os.path.exists(MANIFEST_PATH), f\"Manifest not found at {MANIFEST_PATH}\"\n",
    "\n",
    "# === Model Training  ===\n",
    "USE_VARIATIONAL = False  # Toggle deterministic / variational\n",
    "FS = 500                 # Sampling Frequency (Hz)\n",
    "TRAINING_RESUME = True   # resume (True) or fresh (False) training\n",
    "EPOCHS = 200\n",
    "BATCH_SIZE = 128\n",
    "NUM_WORKERS = 16\n",
    "CHECKPOINT_DIR = \"checkpoints\"\n",
    "PLOT_DIR = \"test_waveform_plots\"\n",
    "\n",
    "os.makedirs(CHECKPOINT_DIR, exist_ok=True)\n",
    "os.makedirs(PLOT_DIR, exist_ok=True)"
   ]
  },
  {
   "cell_type": "markdown",
   "id": "124b6d28-d8f3-467f-99af-a74addf2a206",
   "metadata": {},
   "source": [
    "# Check device"
   ]
  },
  {
   "cell_type": "code",
   "execution_count": null,
   "id": "18b6a93b-b11c-416e-ae68-702e1fb50eb3",
   "metadata": {},
   "outputs": [],
   "source": [
    "print(\"Python:\", sys.version)\n",
    "print(\"Torch:\", torch.__version__)\n",
    "print(\"Torch CUDA build:\", torch.version.cuda)\n",
    "print(\"CUDA visible devices:\",s os.environ.get(\"CUDA_VISIBLE_DEVICES\"))\n",
    "print(\"is_available:\", torch.cuda.is_available())\n",
    "print(\"device_count:\", torch.cuda.device_count())\n",
    "if torch.cuda.is_available():\n",
    "    print(\"device 0:\", torch.cuda.get_device_name(0))"
   ]
  },
  {
   "cell_type": "markdown",
   "id": "7387f8ca-0eb3-4210-8041-31cbb06833f9",
   "metadata": {},
   "source": [
    "## SMILES information"
   ]
  },
  {
   "cell_type": "code",
   "execution_count": 42,
   "id": "5ca1d3e4-499c-4d2a-b1c4-1c4f5bdfff60",
   "metadata": {
    "execution": {
     "iopub.execute_input": "2025-08-17T12:18:25.973128Z",
     "iopub.status.busy": "2025-08-17T12:18:25.972986Z",
     "iopub.status.idle": "2025-08-17T12:18:25.994086Z",
     "shell.execute_reply": "2025-08-17T12:18:25.992901Z",
     "shell.execute_reply.started": "2025-08-17T12:18:25.973114Z"
    }
   },
   "outputs": [],
   "source": [
    "# --- Cardiotoxic drugs ---\n",
    "RANOLAZINE_SMILES = \"O=C(Nc1c(cccc1C)C)CN3CCN(CC(O)COc2ccccc2OC)CC3\"\n",
    "DOFETILIDE_SMILES = \"CN(CCc1ccc(cc1)NS(=O)(=O)C)CCOc1ccc(cc1)NS(=O)(=O)C\"\n",
    "VERAPAMIL_SMILES  = \"N#CC(c1cc(OC)c(OC)cc1)(CCCN(CCc2ccc(OC)c(OC)c2)C)C(C)C\"\n",
    "QUINIDINE_SMILES  = \"O(c4cc1c(nccc1[C@H](O)[C@@H]2N3CC[C@@H](C2)[C@@H](/C=C)C3)cc4)C\"\n",
    "PLACEBO_SMILES    = \"\"\n",
    "\n",
    "\n",
    "# --- Mapping ---\n",
    "drug_to_smiles = {\n",
    "    \"Ranolazine\": RANOLAZINE_SMILES,\n",
    "    \"Dofetilide\": DOFETILIDE_SMILES,\n",
    "    \"Verapamil\": VERAPAMIL_SMILES,\n",
    "    \"Verapamil hcl\": VERAPAMIL_SMILES,\n",
    "    \"Quinidine\": QUINIDINE_SMILES,\n",
    "    \"Quinidine sulph\": QUINIDINE_SMILES,\n",
    "    \"Placebo\": PLACEBO_SMILES\n",
    "}\n",
    "\n",
    "\n",
    "# --- Non-cardiotoxic drugs ---\n",
    "AMLODIPINE_SMILES = \"CC1=C(C(=C(C=C1)OC)C)CC(C)(C)NCCOC2=CC=C(C=C2)NC(=O)C\"\n",
    "ATENOLOL_SMILES   = \"CC(C)NCC(C1=CC=CC=C1)O\"\n",
    "IVABRADINE_SMILES = \"CCCCC1=C(C(=C(N=C1)C)OC)OC\"\n",
    "NON_CARDIOTOX_SMILES = {\n",
    "    \"Amlodipine\": AMLODIPINE_SMILES,\n",
    "    \"Atenolol\":   ATENOLOL_SMILES,\n",
    "    \"Ivabradine\": IVABRADINE_SMILES,\n",
    "}\n"
   ]
  },
  {
   "cell_type": "code",
   "execution_count": 43,
   "id": "aaf5377d-5948-45ce-958d-7a125d544342",
   "metadata": {
    "execution": {
     "iopub.execute_input": "2025-08-17T12:18:25.995350Z",
     "iopub.status.busy": "2025-08-17T12:18:25.995188Z",
     "iopub.status.idle": "2025-08-17T12:18:26.165727Z",
     "shell.execute_reply": "2025-08-17T12:18:26.164633Z",
     "shell.execute_reply.started": "2025-08-17T12:18:25.995335Z"
    }
   },
   "outputs": [],
   "source": [
    "# --- ChemBERTa ---\n",
    "chemberta_name = \"./huggingface/ChemBERTa-zinc-base-v1\"\n",
    "chemberta_tokenizer = AutoTokenizer.from_pretrained(chemberta_name)\n",
    "chemberta_model = AutoModel.from_pretrained(chemberta_name)\n",
    "\n",
    "@torch.no_grad()\n",
    "def smiles_to_embedding(smiles: str) -> torch.Tensor:\n",
    "    tokens = chemberta_tokenizer(smiles, return_tensors=\"pt\", padding=True, truncation=True)\n",
    "    outputs = chemberta_model(**tokens)\n",
    "    emb = outputs.last_hidden_state.mean(dim=1)\n",
    "    return emb.squeeze(0)"
   ]
  },
  {
   "cell_type": "markdown",
   "id": "1460d9ea-e380-49e0-bd96-57bfff79473d",
   "metadata": {},
   "source": [
    "## Pre-compute SMILES representations, which are treated deterministic in the training"
   ]
  },
  {
   "cell_type": "code",
   "execution_count": 44,
   "id": "3acc37ce-a106-4498-9aec-ba35a9c9fea7",
   "metadata": {
    "execution": {
     "iopub.execute_input": "2025-08-17T12:18:26.167570Z",
     "iopub.status.busy": "2025-08-17T12:18:26.167411Z",
     "iopub.status.idle": "2025-08-17T12:18:26.459714Z",
     "shell.execute_reply": "2025-08-17T12:18:26.458611Z",
     "shell.execute_reply.started": "2025-08-17T12:18:26.167554Z"
    }
   },
   "outputs": [],
   "source": [
    "chemberta_model.eval()\n",
    "for p in chemberta_model.parameters():\n",
    "    p.requires_grad = False\n",
    "\n",
    "# Cache embeddings for all fixed SMILES so we don’t call ChemBERTa per batch\n",
    "ALL_SMILES = set(list(drug_to_smiles.values()) + list(NON_CARDIOTOX_SMILES.values()))\n",
    "\n",
    "SMILES_EMB_CACHE = {}\n",
    "with torch.no_grad():\n",
    "    for smi in ALL_SMILES:\n",
    "        if smi:  # skip empty placeholder\n",
    "            SMILES_EMB_CACHE[smi] = smiles_to_embedding(smi).cpu().numpy()  # store on CPU; moved to device during training\n"
   ]
  },
  {
   "cell_type": "markdown",
   "id": "56b48085-322a-4666-85fd-8481c6b7e6c8",
   "metadata": {},
   "source": [
    "# 2. Data Preparation"
   ]
  },
  {
   "cell_type": "code",
   "execution_count": 45,
   "id": "ff276908-dd32-4e09-8c9e-ad4769d31ee6",
   "metadata": {
    "execution": {
     "iopub.execute_input": "2025-08-17T12:18:26.460467Z",
     "iopub.status.busy": "2025-08-17T12:18:26.460310Z",
     "iopub.status.idle": "2025-08-17T12:18:26.681891Z",
     "shell.execute_reply": "2025-08-17T12:18:26.681202Z",
     "shell.execute_reply.started": "2025-08-17T12:18:26.460451Z"
    }
   },
   "outputs": [],
   "source": [
    "from utils import build_subject_drug_map\n",
    "data_by_subject_drug = build_subject_drug_map(ECGRDVQ_ANNOTATION, PLACEBO_TPT)"
   ]
  },
  {
   "cell_type": "markdown",
   "id": "057ac92b-a19a-413a-b47d-cc1e2fad22af",
   "metadata": {},
   "source": [
    "# 3. Subject Splitting"
   ]
  },
  {
   "cell_type": "code",
   "execution_count": 46,
   "id": "b034024a-c0d3-4e08-9e4d-d27920fc5acd",
   "metadata": {
    "execution": {
     "iopub.execute_input": "2025-08-17T12:18:26.682624Z",
     "iopub.status.busy": "2025-08-17T12:18:26.682476Z",
     "iopub.status.idle": "2025-08-17T12:18:26.708502Z",
     "shell.execute_reply": "2025-08-17T12:18:26.707770Z",
     "shell.execute_reply.started": "2025-08-17T12:18:26.682609Z"
    }
   },
   "outputs": [
    {
     "name": "stdout",
     "output_type": "stream",
     "text": [
      "Validation Male: 1021, Validation Female: 1010\n",
      "Test Male: 1022, Test Female: 1011\n"
     ]
    }
   ],
   "source": [
    "sex_map = {subj: info['meta']['SEX'] \n",
    "           for (subj, _), info in data_by_subject_drug.items()}\n",
    "\n",
    "males = sorted({s for s, sex in sex_map.items() if sex == 'M'})\n",
    "females = sorted({s for s, sex in sex_map.items() if sex == 'F'})\n",
    "\n",
    "# randomly choose subjects for train/val/test or select deterministic ones\n",
    "is_random_subj_4_train = False\n",
    "if is_random_subj_4_train:\n",
    "    val_male = random.choice(males)\n",
    "    val_female = random.choice(females)\n",
    "    test_male = random.choice([m for m in males if m != val_male])\n",
    "    test_female = random.choice([f for f in females if f != val_female])\n",
    "else:\n",
    "    val_male = males[-2]\n",
    "    val_female = females[-2]\n",
    "    test_male = males[-1]\n",
    "    test_female = females[-1]\n",
    "\n",
    "print(f\"Validation Male: {val_male}, Validation Female: {val_female}\")\n",
    "print(f\"Test Male: {test_male}, Test Female: {test_female}\")\n",
    "\n",
    "val_ids = {val_male, val_female}\n",
    "test_ids = {test_male, test_female}\n",
    "\n",
    "\n",
    "train_map, val_map, test_map = {}, {}, {}\n",
    "for key, value in data_by_subject_drug.items():\n",
    "    subj = key[0]\n",
    "    if subj in val_ids:\n",
    "        val_map[key] = value\n",
    "    elif subj in test_ids:\n",
    "        test_map[key] = value\n",
    "    else:\n",
    "        train_map[key] = value"
   ]
  },
  {
   "cell_type": "markdown",
   "id": "f5cede54-c256-4446-80c2-a27cab00b434",
   "metadata": {},
   "source": [
    "# 4. Dataset & DataLoader"
   ]
  },
  {
   "cell_type": "code",
   "execution_count": 48,
   "id": "15b3cc22-5828-4ef1-a2cc-68714fef0b6c",
   "metadata": {
    "execution": {
     "iopub.execute_input": "2025-08-17T12:18:26.733288Z",
     "iopub.status.busy": "2025-08-17T12:18:26.733092Z",
     "iopub.status.idle": "2025-08-17T12:18:26.761831Z",
     "shell.execute_reply": "2025-08-17T12:18:26.760587Z",
     "shell.execute_reply.started": "2025-08-17T12:18:26.733274Z"
    }
   },
   "outputs": [],
   "source": [
    "class MedianWaveformPairDataset(Dataset):\n",
    "    def __init__(self, manifest_csv, mapping, subj_stats, smiles_emb_cache, drug_to_smiles,\n",
    "                 non_cardio_name_to_smiles, use_placebo_surrogate=True):\n",
    "        \"\"\"\n",
    "        manifest_csv: path to manifest produced above\n",
    "        mapping:      {(subj, drug): {'baseline': [egrefids], 'post': [egrefids], 'meta': {...}}}\n",
    "        subj_stats:   dict with 'mean' and 'std' for subject numeric features (or None to skip)\n",
    "        smiles_emb_cache: {smiles: np.ndarray}\n",
    "        drug_to_smiles: mapping for trial drugs\n",
    "        non_cardio_name_to_smiles: dict of surrogate name -> smiles\n",
    "        \"\"\"\n",
    "        self.manifest = pd.read_csv(manifest_csv)\n",
    "        self.mapping = mapping\n",
    "        self.smiles_emb_cache = smiles_emb_cache\n",
    "        self.drug_to_smiles = drug_to_smiles\n",
    "        self.non_cardio = non_cardio_name_to_smiles\n",
    "        self.use_placebo_surrogate = use_placebo_surrogate\n",
    "        self.mean = subj_stats.get('mean') if subj_stats else None\n",
    "        self.std  = subj_stats.get('std')  if subj_stats else None\n",
    "\n",
    "        # Build EGREFID -> list of median file paths (within chosen method)\n",
    "        self.egref_to_paths = defaultdict(list)\n",
    "        for _, row in self.manifest.iterrows():\n",
    "            self.egref_to_paths[\n",
    "                (row['subject'], row['drug'], row['phase'], row['egrefid'])\n",
    "            ].append(row['median_path'])\n",
    "\n",
    "        # Now enumerate pairs per (subject, drug)\n",
    "        self.samples = []\n",
    "        for (subj, drug), info in mapping.items():\n",
    "            base_ids = info['baseline']\n",
    "            post_ids = info['post']\n",
    "            if (not base_ids) or (not post_ids):\n",
    "                continue\n",
    "            # for each replicate egrefid, collect median files from manifest\n",
    "            base_paths = []\n",
    "            for e in base_ids:\n",
    "                base_paths.extend(self.egref_to_paths.get((subj, drug, 'baseline', e), []))\n",
    "            post_paths = []\n",
    "            for e in post_ids:\n",
    "                post_paths.extend(self.egref_to_paths.get((subj, drug, 'post', e), []))\n",
    "            if (not base_paths) or (not post_paths):\n",
    "                continue\n",
    "            # all pairings\n",
    "            for bp in base_paths:\n",
    "                for pp in post_paths:\n",
    "                    self.samples.append({\n",
    "                        'subject': subj,\n",
    "                        'drug': drug,\n",
    "                        'base_path': bp,\n",
    "                        'post_path': pp,\n",
    "                        'meta': info['meta']\n",
    "                    })\n",
    "\n",
    "        print(f\"[MedianWaveformPairDataset] Built {len(self.samples)} pairs from {manifest_csv}\")\n",
    "\n",
    "        self.NUM_KEYS = ['AGE','HGHT','WGHT','SYSBP','DIABP']\n",
    "\n",
    "    def __len__(self):\n",
    "        return len(self.samples)\n",
    "\n",
    "    def _subject_vec(self, meta):\n",
    "        vec = np.array([meta[k] for k in self.NUM_KEYS], dtype=np.float32)\n",
    "        if self.mean is not None and self.std is not None:\n",
    "            vec = (vec - self.mean) / (self.std + 1e-6)\n",
    "        return torch.from_numpy(vec)\n",
    "\n",
    "    def _drug_embedding(self, drug):\n",
    "        if drug == 'Placebo' and self.use_placebo_surrogate:\n",
    "            # Choose a surrogate name deterministically (hash) to keep train/test stable across epochs\n",
    "            names = sorted(list(self.non_cardio.keys()))\n",
    "            idx = hash((drug, len(self.samples))) % len(names)\n",
    "            smiles = self.non_cardio[names[idx]]\n",
    "        else:\n",
    "            smiles = self.drug_to_smiles[drug]\n",
    "        emb = self.smiles_emb_cache[smiles]\n",
    "        return torch.from_numpy(emb.astype(np.float32))\n",
    "\n",
    "    def __getitem__(self, idx):\n",
    "        s = self.samples[idx]\n",
    "        subj, drug = s['subject'], s['drug']\n",
    "        base = np.load(s['base_path']).astype(np.float32)   # [L]\n",
    "        post = np.load(s['post_path']).astype(np.float32)   # [L]\n",
    "        base = torch.from_numpy(base).unsqueeze(0)          # [1, L]\n",
    "        post = torch.from_numpy(post).unsqueeze(0)          # [1, L]\n",
    "        subj_vec = self._subject_vec(s['meta'])\n",
    "        drug_emb = self._drug_embedding(drug)\n",
    "        return base, subj_vec, drug_emb, post\n"
   ]
  },
  {
   "cell_type": "code",
   "execution_count": 49,
   "id": "a433ffe5-b039-4377-bf31-d4a8ef4a56b4",
   "metadata": {
    "execution": {
     "iopub.execute_input": "2025-08-17T12:18:26.762474Z",
     "iopub.status.busy": "2025-08-17T12:18:26.762326Z",
     "iopub.status.idle": "2025-08-17T12:18:28.642267Z",
     "shell.execute_reply": "2025-08-17T12:18:28.641548Z",
     "shell.execute_reply.started": "2025-08-17T12:18:26.762459Z"
    }
   },
   "outputs": [
    {
     "name": "stdout",
     "output_type": "stream",
     "text": [
      "[MedianWaveformPairDataset] Built 85076 pairs from data/ECGRDVQ_medians_exclude_1/method_B_subset/manifest.csv\n",
      "[MedianWaveformPairDataset] Built 11491 pairs from data/ECGRDVQ_medians_exclude_1/method_B_subset/manifest.csv\n",
      "[MedianWaveformPairDataset] Built 13010 pairs from data/ECGRDVQ_medians_exclude_1/method_B_subset/manifest.csv\n"
     ]
    }
   ],
   "source": [
    "# Subject numeric stats: fit on TRAIN subjects only\n",
    "NUMERIC_KEYS = ['AGE','HGHT','WGHT','SYSBP','DIABP']\n",
    "\n",
    "# Normalize numeric variables of subject features (fit on TRAIN subjects only)\n",
    "def cal_subject_stats(train_map):\n",
    "    rows = []\n",
    "    for (subj, drug), info in train_map.items():\n",
    "        rows.append([info['meta'][k] for k in NUMERIC_KEYS])\n",
    "    X = np.array(rows, dtype=np.float32)\n",
    "    return {'mean': X.mean(axis=0), 'std': X.std(axis=0) + 1e-6}\n",
    "\n",
    "subj_stats = cal_subject_stats(train_map)\n",
    "\n",
    "# Build datasets\n",
    "train_dataset = MedianWaveformPairDataset(MANIFEST_PATH, train_map, subj_stats, SMILES_EMB_CACHE,\n",
    "                             drug_to_smiles, NON_CARDIOTOX_SMILES, use_placebo_surrogate=True)\n",
    "val_dataset = MedianWaveformPairDataset(MANIFEST_PATH, val_map, subj_stats, SMILES_EMB_CACHE,\n",
    "                             drug_to_smiles, NON_CARDIOTOX_SMILES, use_placebo_surrogate=True)\n",
    "test_dataset = MedianWaveformPairDataset(MANIFEST_PATH, test_map, subj_stats, SMILES_EMB_CACHE,\n",
    "                             drug_to_smiles, NON_CARDIOTOX_SMILES, use_placebo_surrogate=True)"
   ]
  },
  {
   "cell_type": "code",
   "execution_count": 50,
   "id": "a1c4c254-fe19-40f1-8e21-1c9c6b8db63b",
   "metadata": {
    "execution": {
     "iopub.execute_input": "2025-08-17T12:18:28.642917Z",
     "iopub.status.busy": "2025-08-17T12:18:28.642764Z",
     "iopub.status.idle": "2025-08-17T12:18:28.676151Z",
     "shell.execute_reply": "2025-08-17T12:18:28.674879Z",
     "shell.execute_reply.started": "2025-08-17T12:18:28.642901Z"
    }
   },
   "outputs": [],
   "source": [
    "train_loader = DataLoader(train_dataset, batch_size=BATCH_SIZE, num_workers=NUM_WORKERS, shuffle=True)\n",
    "val_loader   = DataLoader(val_dataset, batch_size=BATCH_SIZE, num_workers=NUM_WORKERS, shuffle=False)\n",
    "test_loader  = DataLoader(test_dataset, batch_size=BATCH_SIZE, num_workers=NUM_WORKERS, shuffle=False)"
   ]
  },
  {
   "cell_type": "markdown",
   "id": "d8c0926e-9222-4577-9c6f-5621b0bc939a",
   "metadata": {},
   "source": [
    "# 5. Model Definition"
   ]
  },
  {
   "cell_type": "code",
   "execution_count": 51,
   "id": "2beb05e0-cebc-4c47-afc4-2a5bb96cb043",
   "metadata": {
    "execution": {
     "iopub.execute_input": "2025-08-17T12:18:28.676982Z",
     "iopub.status.busy": "2025-08-17T12:18:28.676785Z",
     "iopub.status.idle": "2025-08-17T12:18:28.711690Z",
     "shell.execute_reply": "2025-08-17T12:18:28.710507Z",
     "shell.execute_reply.started": "2025-08-17T12:18:28.676966Z"
    }
   },
   "outputs": [],
   "source": [
    "import math\n",
    "import torch\n",
    "import torch.nn as nn\n",
    "import torch.nn.functional as F\n",
    "\n",
    "\n",
    "class FiLM(nn.Module):\n",
    "    def __init__(self, cond_dim, feat_ch):\n",
    "        super().__init__()\n",
    "        self.gamma = nn.Linear(cond_dim, feat_ch)\n",
    "        self.beta  = nn.Linear(cond_dim, feat_ch)\n",
    "    def forward(self, x, cond):\n",
    "        # x: [B,C,L], cond: [B,cond_dim]\n",
    "        g = self.gamma(cond).unsqueeze(-1)  # [B,C,1]\n",
    "        b = self.beta(cond).unsqueeze(-1)   # [B,C,1]\n",
    "        return (1 + g) * x + b\n",
    "\n",
    "\n",
    "def center_crop_or_pad_1d(x, out_len):\n",
    "    \"\"\"\n",
    "    x: [B,C,L], returns [B,C,out_len]\n",
    "    If L > out_len: center-crop. If L < out_len: symmetric pad with edge values.\n",
    "    \"\"\"\n",
    "    B, C, L = x.shape\n",
    "    if L == out_len:\n",
    "        return x\n",
    "    if L > out_len:\n",
    "        start = (L - out_len) // 2\n",
    "        return x[:, :, start:start+out_len]\n",
    "    # pad\n",
    "    pad_total = out_len - L\n",
    "    left = pad_total // 2\n",
    "    right = pad_total - left\n",
    "    return F.pad(x, (left, right), mode=\"replicate\")\n",
    "\n",
    "    \n",
    "class ECGMedianWaveformGenerator(nn.Module):\n",
    "    \"\"\"\n",
    "    FiLM-conditioned generator adapted for median waveforms.\n",
    "    - Input:  baseline median beat [B,1,out_len]\n",
    "    - Output: post-treatment median beat [B,1,out_len]\n",
    "    - Conditioning: subject numerics + drug embedding via FiLM at each hidden deconv\n",
    "    - Variational: optional (use_variational=True)\n",
    "    - Residual: optional (predict delta and add to input)\n",
    "    \"\"\"\n",
    "    def __init__(self,\n",
    "                 latent_dim=128,\n",
    "                 use_variational=False,\n",
    "                 residual_prediction=True,\n",
    "                 drug_emb_dim=768,\n",
    "                 subj_dim=5,\n",
    "                 out_len=512,            # == MEDIAN_BEAT_LEN\n",
    "                 num_upsamples=5,        # keep 5 stages (×2 each); robust for common lengths\n",
    "                 start_channels=128):\n",
    "        super().__init__()\n",
    "        self.use_variational   = use_variational\n",
    "        self.residual_prediction = residual_prediction\n",
    "        self.out_len           = int(out_len)\n",
    "        self.num_upsamples     = int(num_upsamples)\n",
    "        self.start_channels    = int(start_channels)\n",
    "\n",
    "        # ---------------- Encoder (unchanged) ----------------\n",
    "        self.ecg_encoder = nn.Sequential(\n",
    "            nn.Conv1d(1, 16, 7, stride=2, padding=3), nn.ReLU(),\n",
    "            nn.Conv1d(16, 32, 5, stride=2, padding=2), nn.ReLU(),\n",
    "            nn.AdaptiveAvgPool1d(1), nn.Flatten(),   # -> 32\n",
    "        )\n",
    "        self.subj_encoder = nn.Sequential(nn.Linear(subj_dim, 32), nn.ReLU())     # -> 32\n",
    "        self.drug_encoder = nn.Sequential(nn.Linear(drug_emb_dim, 64), nn.ReLU()) # -> 64\n",
    "\n",
    "        cond_dim = 32 + 64                  # subject + drug\n",
    "        fuse_in  = 32 + cond_dim            # ecg(32) + cond(96) = 128\n",
    "\n",
    "        if self.use_variational:\n",
    "            self.fc_mu     = nn.Linear(fuse_in, latent_dim)\n",
    "            self.fc_logvar = nn.Linear(fuse_in, latent_dim)\n",
    "            proj_in        = latent_dim\n",
    "        else:\n",
    "            self.fc        = nn.Linear(fuse_in, latent_dim)\n",
    "            proj_in        = latent_dim\n",
    "\n",
    "        # ---------------- Decoder stem ----------------\n",
    "        # With stride-2 deconvs, effective length multiplier is 2^num_upsamples.\n",
    "        # Choose a start_len that will reach >= out_len, then crop/pad to exact.\n",
    "        mult = 2 ** self.num_upsamples\n",
    "        start_len = math.ceil(self.out_len / mult)  # minimal starting length to not undershoot\n",
    "        self.start_len = int(start_len)\n",
    "\n",
    "        self.dec_proj = nn.Sequential(\n",
    "            nn.Linear(proj_in, self.start_channels * self.start_len),\n",
    "            nn.ReLU(),\n",
    "            nn.Unflatten(1, (self.start_channels, self.start_len))\n",
    "        )\n",
    "\n",
    "        # ---------------- Deconvolution stages ----------------\n",
    "        # Channel plan (like your original): 128->64->32->16->8->1\n",
    "        chans = [self.start_channels, 64, 32, 16, 8, 1]\n",
    "        self.deconvs = nn.ModuleList()\n",
    "        self.films   = nn.ModuleList()\n",
    "\n",
    "        # We create num_upsamples hidden stages + 1 final to 1 channel.\n",
    "        # Hidden stages have FiLM; final layer does not.\n",
    "        for i in range(self.num_upsamples):\n",
    "            in_ch  = chans[i]\n",
    "            out_ch = chans[i+1] if i+1 < len(chans)-1 else chans[-2]  # keep hidden layers before final 1-ch\n",
    "            self.deconvs.append(\n",
    "                nn.ConvTranspose1d(in_ch, out_ch, kernel_size=5, stride=2, padding=2, output_padding=1)\n",
    "            )\n",
    "            # FiLM for hidden deconvs\n",
    "            self.films.append(FiLM(cond_dim, out_ch))\n",
    "\n",
    "        # final 1-channel layer (one more upsample to reach >= out_len)\n",
    "        final_in_ch = chans[self.num_upsamples] if self.num_upsamples < len(chans)-1 else chans[-2]\n",
    "        self.final_deconv = nn.ConvTranspose1d(final_in_ch, 1, kernel_size=5, stride=2, padding=2, output_padding=1)\n",
    "\n",
    "    def reparameterize(self, mu, logvar):\n",
    "        std = torch.exp(0.5 * logvar)\n",
    "        return mu + torch.randn_like(std) * std\n",
    "\n",
    "    def forward(self, baseline_ecg, subj_info, drug_emb):\n",
    "        \"\"\"\n",
    "        baseline_ecg: [B,1,out_len] (median beat)\n",
    "        subj_info:    [B,subj_dim]\n",
    "        drug_emb:     [B,drug_emb_dim]\n",
    "        \"\"\"\n",
    "        e_ecg  = self.ecg_encoder(baseline_ecg)         # [B,32]\n",
    "        e_subj = self.subj_encoder(subj_info)           # [B,32]\n",
    "        e_drug = self.drug_encoder(drug_emb)            # [B,64]\n",
    "        cond   = torch.cat([e_subj, e_drug], dim=1)     # [B,96]\n",
    "        h      = torch.cat([e_ecg, cond], dim=1)        # [B,128]\n",
    "\n",
    "        if self.use_variational:\n",
    "            mu, logvar = self.fc_mu(h), self.fc_logvar(h)\n",
    "            z = self.reparameterize(mu, logvar)\n",
    "        else:\n",
    "            mu = logvar = None\n",
    "            z  = self.fc(h)\n",
    "\n",
    "        x = self.dec_proj(z)                            # [B, start_ch, start_len]\n",
    "\n",
    "        # Hidden upsampling stages with FiLM\n",
    "        for deconv, film in zip(self.deconvs, self.films):\n",
    "            x = deconv(x)\n",
    "            x = F.relu(film(x, cond))\n",
    "\n",
    "        # Final upsample to 1 channel\n",
    "        out = self.final_deconv(x)                      # [B,1,L_approx]\n",
    "        out = center_crop_or_pad_1d(out, self.out_len)  # [B,1,out_len]\n",
    "\n",
    "        # Optional residual: predict delta and add to baseline median\n",
    "        if self.residual_prediction:\n",
    "            out = out + baseline_ecg\n",
    "\n",
    "        return out, mu, logvar\n"
   ]
  },
  {
   "cell_type": "markdown",
   "id": "dea9972f-d87a-4a94-b513-313a3d501039",
   "metadata": {},
   "source": [
    "# 6. Training Loop with Logging"
   ]
  },
  {
   "cell_type": "code",
   "execution_count": 52,
   "id": "34c32c93-e1b9-4678-a706-17d697e8c3b8",
   "metadata": {
    "execution": {
     "iopub.execute_input": "2025-08-17T12:18:28.712260Z",
     "iopub.status.busy": "2025-08-17T12:18:28.712119Z",
     "iopub.status.idle": "2025-08-17T12:18:28.737282Z",
     "shell.execute_reply": "2025-08-17T12:18:28.735634Z",
     "shell.execute_reply.started": "2025-08-17T12:18:28.712245Z"
    }
   },
   "outputs": [],
   "source": [
    "def _list_epoch_ckpts(ckpt_dir):\n",
    "    paths = glob(os.path.join(ckpt_dir, \"epoch_*.pth\"))\n",
    "    out = []\n",
    "    for p in paths:\n",
    "        m = re.search(r\"epoch_(\\d+)\\.pth$\", p)\n",
    "        if m:\n",
    "            out.append((int(m.group(1)), p))\n",
    "    return sorted(out)\n",
    "\n",
    "\n",
    "def _latest_epoch_ckpt_path(ckpt_dir):\n",
    "    lst = _list_epoch_ckpts(ckpt_dir)\n",
    "    return lst[-1][1] if lst else None\n",
    "\n",
    "\n",
    "def _last_logged_epoch(log_file):\n",
    "    if not os.path.exists(log_file):\n",
    "        return -1\n",
    "    try:\n",
    "        df_log = pd.read_csv(log_file)\n",
    "        if df_log.empty: \n",
    "            return -1\n",
    "        return int(df_log[\"epoch\"].max())\n",
    "    except Exception:\n",
    "        return -1\n",
    "\n",
    "\n",
    "def _create_new_log_file(log_file):\n",
    "    with open(log_file, mode='w', newline='') as f:\n",
    "        csv.writer(f).writerow([\"epoch\", \"train_loss\", \"val_loss\", \"best_val_loss\"])\n"
   ]
  },
  {
   "cell_type": "code",
   "execution_count": 53,
   "id": "8350e24c-7520-4395-a379-a21ae0cbb10a",
   "metadata": {
    "execution": {
     "iopub.execute_input": "2025-08-17T12:18:28.738024Z",
     "iopub.status.busy": "2025-08-17T12:18:28.737875Z",
     "iopub.status.idle": "2025-08-17T12:18:28.824618Z",
     "shell.execute_reply": "2025-08-17T12:18:28.824090Z",
     "shell.execute_reply.started": "2025-08-17T12:18:28.738010Z"
    }
   },
   "outputs": [
    {
     "name": "stdout",
     "output_type": "stream",
     "text": [
      "Using cuda for model training\n",
      "[resume training] Loaded epoch_199.pth → start at epoch 200\n",
      "[resume training] Current best val_loss = 0.138140 (epoch 95)\n"
     ]
    }
   ],
   "source": [
    "# Paths\n",
    "log_file = os.path.join(CHECKPOINT_DIR, \"training_log.csv\")\n",
    "best_ckpt_path = os.path.join(CHECKPOINT_DIR, \"best_model.pth\")\n",
    "os.makedirs(CHECKPOINT_DIR, exist_ok=True)\n",
    "os.makedirs(PLOT_DIR, exist_ok=True)\n",
    "\n",
    "device = torch.device(\"cuda\" if torch.cuda.is_available() else \"cpu\")\n",
    "print(f\"Using {device} for model training\")\n",
    "\n",
    "# instantiate model and optimizer\n",
    "model = ECGMedianWaveformGenerator(use_variational=USE_VARIATIONAL).to(device)\n",
    "optimizer = torch.optim.Adam(model.parameters(), lr=1e-3)\n",
    "scheduler = None  # set if you add one later\n",
    "\n",
    "# Prepare logs based on fresh training or resume training\n",
    "start_epoch = 0\n",
    "best_val_loss = float(\"inf\")\n",
    "\n",
    "if not TRAINING_RESUME:  # fresh training\n",
    "    # archive old checkpoints instead of deleting\n",
    "    if os.listdir(CHECKPOINT_DIR):\n",
    "        archive_dir = os.path.join(CHECKPOINT_DIR, f\"archive_{datetime.now().strftime('%Y%m%d_%H%M%S')}\")\n",
    "        os.makedirs(archive_dir, exist_ok=True)\n",
    "        for f in glob(os.path.join(CHECKPOINT_DIR, \"*\")):\n",
    "            os.rename(f, os.path.join(archive_dir, os.path.basename(f)))\n",
    "        print(f\"[fresh training] Archived previous checkpoints to: {archive_dir}\")\n",
    "\n",
    "    # create new log file with header\n",
    "    _create_new_log_File(log_file)\n",
    "    print(\"[fresh training] Starting from epoch 0\")\n",
    "\n",
    "else:\n",
    "    # Try resuming from latest epoch checkpoint\n",
    "    latest = _latest_epoch_ckpt_path(CHECKPOINT_DIR)\n",
    "    if latest and os.path.exists(latest):\n",
    "        ckpt = torch.load(latest, map_location=device)\n",
    "        model.load_state_dict(ckpt[\"model_state\"])\n",
    "        optimizer.load_state_dict(ckpt[\"optimizer_state\"])\n",
    "        start_epoch = ckpt[\"epoch\"] + 1\n",
    "        print(f\"[resume training] Loaded {os.path.basename(latest)} → start at epoch {start_epoch}\")\n",
    "\n",
    "        # Try to recover best val from best_model if exists\n",
    "        if os.path.exists(best_ckpt_path):\n",
    "            best_ckpt = torch.load(best_ckpt_path, map_location=device)\n",
    "            best_val_loss = float(best_ckpt.get(\"val_loss\", float(\"inf\")))\n",
    "            print(f\"[resume training] Current best val_loss = {best_val_loss:.6f} (epoch {best_ckpt.get('epoch','?')})\")\n",
    "        else:\n",
    "            # Or from the log, if any\n",
    "            last_ep_in_log = _last_logged_epoch(log_file)\n",
    "            if last_ep_in_log >= 0:\n",
    "                df_log = pd.read_csv(log_file)\n",
    "                best_val_loss = float(df_log[\"val_loss\"].min())\n",
    "                print(f\"[resume training] best_val_loss inferred from log = {best_val_loss:.6f}\")\n",
    "            else:\n",
    "                print(\"[resume training] No best model or log found; starting with fresh training.\")\n",
    "\n",
    "        # Ensure log file exists; if not, create it\n",
    "        if not os.path.exists(log_file):\n",
    "            _create_new_log_File(log_file)\n",
    "\n",
    "    else:\n",
    "        print(\"[resume training] No epoch_*.pth found; falling back to fresh training.\")\n",
    "        with open(log_file, mode='w', newline='') as f:\n",
    "            csv.writer(f).writerow([\"epoch\", \"train_loss\", \"val_loss\", \"best_val_loss\"])\n",
    "        start_epoch = 0\n",
    "        best_val_loss = float(\"inf\")\n"
   ]
  },
  {
   "cell_type": "code",
   "execution_count": 54,
   "id": "650a787b-d19c-4780-ac42-d555a7e009a7",
   "metadata": {
    "execution": {
     "iopub.execute_input": "2025-08-17T12:18:28.825200Z",
     "iopub.status.busy": "2025-08-17T12:18:28.825046Z",
     "iopub.status.idle": "2025-08-17T12:18:28.852944Z",
     "shell.execute_reply": "2025-08-17T12:18:28.852440Z",
     "shell.execute_reply.started": "2025-08-17T12:18:28.825185Z"
    }
   },
   "outputs": [],
   "source": [
    "def save_checkpoint(epoch, model, optimizer, train_loss, val_loss, path):\n",
    "    torch.save({\n",
    "        'epoch': epoch,\n",
    "        'model_state': model.state_dict(),\n",
    "        'optimizer_state': optimizer.state_dict(),\n",
    "        'train_loss': train_loss,\n",
    "        'val_loss': val_loss,\n",
    "    }, path)\n",
    "\n",
    "\n",
    "# If resuming, optionally skip epochs already logged\n",
    "last_logged = _last_logged_epoch(log_file)\n",
    "if last_logged >= start_epoch:\n",
    "    start_epoch = last_logged + 1\n",
    "    print(f\"[resume training] Advancing start_epoch to {start_epoch} to avoid duplicate logging\")\n",
    "\n",
    "\n",
    "for epoch in range(start_epoch, EPOCHS):\n",
    "    model.train()\n",
    "    train_loss = 0\n",
    "\n",
    "    for base_ecg_seg, subj_info, drug_emb, post_ecg_seg in train_loader:\n",
    "        base_ecg_seg = base_ecg_seg.to(device)\n",
    "        subj_info = subj_info.to(device)\n",
    "        drug_emb = drug_emb.to(device)\n",
    "        post_ecg_seg = post_ecg_seg.to(device)\n",
    "        out, mu, logvar = model(base_ecg_seg, subj_info, drug_emb)\n",
    "        mse = F.mse_loss(out, post_ecg_seg)\n",
    "        if USE_VARIATIONAL:\n",
    "            kl = -0.5 * torch.mean(1 + logvar - mu.pow(2) - logvar.exp())\n",
    "            loss = mse + kl\n",
    "        else:\n",
    "            loss = mse\n",
    "        optimizer.zero_grad()\n",
    "        loss.backward()\n",
    "        optimizer.step()\n",
    "        train_loss += loss.item()\n",
    "\n",
    "    # Validation\n",
    "    model.eval()\n",
    "    val_loss = 0\n",
    "    with torch.no_grad():\n",
    "        for base_ecg_seg, subj_info, drug_emb, post_ecg_seg in val_loader:\n",
    "            base_ecg_seg = base_ecg_seg.to(device)\n",
    "            subj_info = subj_info.to(device)\n",
    "            drug_emb = drug_emb.to(device)\n",
    "            post_ecg_seg = post_ecg_seg.to(device)\n",
    "            out, _, _ = model(base_ecg_seg, subj_info, drug_emb)\n",
    "            val_loss += F.mse_loss(out, post_ecg_seg).item()\n",
    "\n",
    "    # Save per-epoch checkpoint\n",
    "    save_checkpoint(epoch, model, optimizer, train_loss, val_loss, \n",
    "                    os.path.join(CHECKPOINT_DIR, f\"epoch_{epoch}.pth\"))\n",
    "\n",
    "    # Save best model\n",
    "    if val_loss < best_val_loss:\n",
    "        best_val_loss = val_loss\n",
    "        torch.save({\n",
    "            'epoch': epoch,\n",
    "            'model_state': model.state_dict(),\n",
    "            'optimizer_state': optimizer.state_dict(),\n",
    "            'val_loss': val_loss\n",
    "        }, best_ckpt_path)\n",
    "\n",
    "    # Append to CSV log\n",
    "    with open(log_file, mode='a', newline='') as f:\n",
    "        csv.writer(f).writerow([epoch, train_loss, val_loss, best_val_loss])\n",
    "\n",
    "    print(f\"Epoch {epoch}: Train {train_loss:.4f}, Val {val_loss:.4f} (Best: {best_val_loss:.4f})\")\n"
   ]
  },
  {
   "cell_type": "markdown",
   "id": "57d6514e-a75a-427f-a970-9cfbca459478",
   "metadata": {},
   "source": [
    "# 7. Test Evaluation"
   ]
  },
  {
   "cell_type": "code",
   "execution_count": 55,
   "id": "8a49fec8-b8d1-492e-8da4-2551040e26a1",
   "metadata": {
    "execution": {
     "iopub.execute_input": "2025-08-17T12:18:28.853497Z",
     "iopub.status.busy": "2025-08-17T12:18:28.853343Z",
     "iopub.status.idle": "2025-08-17T12:21:06.845483Z",
     "shell.execute_reply": "2025-08-17T12:21:06.844553Z",
     "shell.execute_reply.started": "2025-08-17T12:18:28.853482Z"
    }
   },
   "outputs": [
    {
     "name": "stdout",
     "output_type": "stream",
     "text": [
      "Loaded best model from epoch 95 with val_loss=0.1381\n",
      "Test MSE: 0.176231\n"
     ]
    }
   ],
   "source": [
    "# --- Load best checkpoint ---\n",
    "checkpoint = torch.load(best_ckpt_path, map_location=device)\n",
    "model.load_state_dict(checkpoint['model_state'])\n",
    "print(f\"Loaded best model from epoch {checkpoint['epoch']} with val_loss={checkpoint['val_loss']:.4f}\")\n",
    "\n",
    "model.eval()\n",
    "\n",
    "# --- Build an index-aligned meta list (subject, drug) for every dataset item ---\n",
    "import os\n",
    "assert hasattr(test_loader.dataset, \"samples\"), \"Expected test_loader.dataset.samples to exist\"\n",
    "test_meta = [(s[\"subject\"], s[\"drug\"]) for s in test_loader.dataset.samples]\n",
    "\n",
    "\n",
    "test_loss = 0\n",
    "with torch.no_grad():\n",
    "    for base_ecg_seg, subj_info, drug_emb, post_ecg_seg in test_loader:\n",
    "        base_ecg_seg = base_ecg_seg.to(device)\n",
    "        subj_info = subj_info.to(device)\n",
    "        drug_emb = drug_emb.to(device)\n",
    "        post_ecg_seg = post_ecg_seg.to(device)\n",
    "        out, _, _ = model(base_ecg_seg, subj_info, drug_emb)\n",
    "        test_loss += F.mse_loss(out, post_ecg_seg).item()\n",
    "mean_test_loss = test_loss / len(test_loader)\n",
    "print(f\"Test MSE: {mean_test_loss:.6f}\")\n",
    "\n",
    "os.makedirs(PLOT_DIR, exist_ok=True)\n",
    "global_idx = 0  # tracks which dataset index we are at as we iterate through batches\n",
    "\n",
    "# Save a few plots\n",
    "with torch.no_grad():\n",
    "    for i, (base_ecg, subj_info, drug_emb, post_ecg) in enumerate(test_loader):\n",
    "        base_ecg = base_ecg.to(device)\n",
    "        subj_info = subj_info.to(device)\n",
    "        drug_emb = drug_emb.to(device)\n",
    "        post_ecg = post_ecg.to(device)\n",
    "        \n",
    "        pred, _, _ = model(base_ecg, subj_info, drug_emb)\n",
    "\n",
    "        batchsize = base_ecg.size(0)\n",
    "        for j in range(min(10, batchsize)):\n",
    "            # Pull subject ID & drug name aligned to this item\n",
    "            subj_id, drug_name = test_meta[global_idx + j]\n",
    "            drug_name_safe = str(drug_name).replace(\" \", \"_\")\n",
    "         \n",
    "            plt.figure(figsize=(10, 4))\n",
    "            plt.plot(post_ecg_seg[j].detach().cpu().numpy().ravel(), label=\"True\", color=\"blue\")\n",
    "            plt.plot(pred[j].detach().cpu().numpy().ravel(),       label=\"Pred\", color=\"red\", linestyle=\"--\")\n",
    "            plt.legend()\n",
    "            plt.title(f\"Subject {subj_id} • {drug_name} — Pred vs True ECG\")\n",
    "\n",
    "            fname = os.path.join(PLOT_DIR, f\"test_pred_subj{subj_id}_{drug_name_safe}_{i}_{j}.png\")\n",
    "            plt.savefig(fname, bbox_inches=\"tight\")\n",
    "            plt.close()\n",
    "\n",
    "        # advance dataset index by batch size\n",
    "        global_idx += batchsize  "
   ]
  },
  {
   "cell_type": "markdown",
   "id": "40ec9539-e2a7-4f21-8b2b-debb7f42b9ad",
   "metadata": {
    "execution": {
     "iopub.execute_input": "2025-08-07T19:41:37.624280Z",
     "iopub.status.busy": "2025-08-07T19:41:37.624057Z",
     "iopub.status.idle": "2025-08-07T19:41:38.830888Z",
     "shell.execute_reply": "2025-08-07T19:41:38.829869Z",
     "shell.execute_reply.started": "2025-08-07T19:41:37.624262Z"
    }
   },
   "source": [
    "# 8. Plot Training Curves"
   ]
  },
  {
   "cell_type": "code",
   "execution_count": 56,
   "id": "d04cc6e4-668b-474f-b7cc-249b07073663",
   "metadata": {
    "execution": {
     "iopub.execute_input": "2025-08-17T12:21:06.846479Z",
     "iopub.status.busy": "2025-08-17T12:21:06.846284Z",
     "iopub.status.idle": "2025-08-17T12:21:08.239854Z",
     "shell.execute_reply": "2025-08-17T12:21:08.238698Z",
     "shell.execute_reply.started": "2025-08-17T12:21:06.846458Z"
    }
   },
   "outputs": [
    {
     "data": {
      "image/png": "[encoded data removed]",
      "text/plain": [
       "<Figure size 800x500 with 1 Axes>"
      ]
     },
     "metadata": {},
     "output_type": "display_data"
    },
    {
     "name": "stdout",
     "output_type": "stream",
     "text": [
      "Training curves saved to checkpoints/training_curves.png\n",
      "Best Epoch: 95\n",
      "  Train Loss: 0.0710\n",
      "  Val Loss:   0.1381\n",
      "  Best Val (tracked): 0.1381\n"
     ]
    }
   ],
   "source": [
    "log_df = pd.read_csv(log_file)\n",
    "best_row = log_df.loc[log_df[\"val_loss\"].idxmin()]\n",
    "best_epoch = int(best_row[\"epoch\"])\n",
    "\n",
    "plt.figure(figsize=(8,5))\n",
    "plt.plot(log_df[\"epoch\"], log_df[\"train_loss\"], label=\"Train Loss\", marker='o')\n",
    "plt.plot(log_df[\"epoch\"], log_df[\"val_loss\"], label=\"Validation Loss\", marker='o')\n",
    "plt.axvline(x=best_epoch, color='red', linestyle='--', label=f\"Best Epoch: {best_epoch}\")\n",
    "plt.xlabel(\"Epoch\")\n",
    "plt.ylabel(\"Loss\")\n",
    "plt.title(\"Training and Validation Loss\")\n",
    "plt.legend()\n",
    "plt.grid(True)\n",
    "curve_path = os.path.join(CHECKPOINT_DIR, \"training_curves.png\")\n",
    "plt.savefig(curve_path)\n",
    "plt.show()\n",
    "\n",
    "print(f\"Training curves saved to {curve_path}\")\n",
    "print(f\"Best Epoch: {best_epoch}\")\n",
    "print(f\"  Train Loss: {best_row['train_loss']:.4f}\")\n",
    "print(f\"  Val Loss:   {best_row['val_loss']:.4f}\")\n",
    "print(f\"  Best Val (tracked): {best_row['best_val_loss']:.4f}\")\n"
   ]
  },
  {
   "cell_type": "code",
   "execution_count": null,
   "id": "92528038-e578-4ffa-9dab-792a3bcb1fec",
   "metadata": {},
   "outputs": [],
   "source": []
  }
 ],
 "metadata": {
  "kernelspec": {
   "display_name": "herg",
   "language": "python",
   "name": "herg"
  },
  "language_info": {
   "codemirror_mode": {
    "name": "ipython",
    "version": 3
   },
   "file_extension": ".py",
   "mimetype": "text/x-python",
   "name": "python",
   "nbconvert_exporter": "python",
   "pygments_lexer": "ipython3",
   "version": "3.9.19"
  }
 },
 "nbformat": 4,
 "nbformat_minor": 5
}
